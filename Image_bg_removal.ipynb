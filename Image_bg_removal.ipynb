{
  "nbformat": 4,
  "nbformat_minor": 0,
  "metadata": {
    "colab": {
      "provenance": [],
      "authorship_tag": "ABX9TyMJKwQKi1LJEiKiXYX5CmeU",
      "include_colab_link": true
    },
    "kernelspec": {
      "name": "python3",
      "display_name": "Python 3"
    },
    "language_info": {
      "name": "python"
    }
  },
  "cells": [
    {
      "cell_type": "markdown",
      "metadata": {
        "id": "view-in-github",
        "colab_type": "text"
      },
      "source": [
        "<a href=\"https://colab.research.google.com/github/Seek-Techs/Data-Entry1/blob/main/Image_bg_removal.ipynb\" target=\"_parent\"><img src=\"https://colab.research.google.com/assets/colab-badge.svg\" alt=\"Open In Colab\"/></a>"
      ]
    },
    {
      "cell_type": "code",
      "execution_count": 3,
      "metadata": {
        "colab": {
          "base_uri": "https://localhost:8080/",
          "height": 52
        },
        "id": "rhCDzYKuIMUL",
        "outputId": "7d1e14a7-534b-4670-fa33-e45871dae061"
      },
      "outputs": [
        {
          "output_type": "stream",
          "name": "stderr",
          "text": [
            "Downloading data from 'https://github.com/danielgatis/rembg/releases/download/v0.0.0/u2net.onnx' to file '/root/.u2net/u2net.onnx'.\n",
            "100%|████████████████████████████████████████| 176M/176M [00:00<00:00, 104GB/s]\n"
          ]
        },
        {
          "output_type": "display_data",
          "data": {
            "text/plain": [
              "<IPython.core.display.Javascript object>"
            ],
            "application/javascript": [
              "\n",
              "    async function download(id, filename, size) {\n",
              "      if (!google.colab.kernel.accessAllowed) {\n",
              "        return;\n",
              "      }\n",
              "      const div = document.createElement('div');\n",
              "      const label = document.createElement('label');\n",
              "      label.textContent = `Downloading \"${filename}\": `;\n",
              "      div.appendChild(label);\n",
              "      const progress = document.createElement('progress');\n",
              "      progress.max = size;\n",
              "      div.appendChild(progress);\n",
              "      document.body.appendChild(div);\n",
              "\n",
              "      const buffers = [];\n",
              "      let downloaded = 0;\n",
              "\n",
              "      const channel = await google.colab.kernel.comms.open(id);\n",
              "      // Send a message to notify the kernel that we're ready.\n",
              "      channel.send({})\n",
              "\n",
              "      for await (const message of channel.messages) {\n",
              "        // Send a message to notify the kernel that we're ready.\n",
              "        channel.send({})\n",
              "        if (message.buffers) {\n",
              "          for (const buffer of message.buffers) {\n",
              "            buffers.push(buffer);\n",
              "            downloaded += buffer.byteLength;\n",
              "            progress.value = downloaded;\n",
              "          }\n",
              "        }\n",
              "      }\n",
              "      const blob = new Blob(buffers, {type: 'application/binary'});\n",
              "      const a = document.createElement('a');\n",
              "      a.href = window.URL.createObjectURL(blob);\n",
              "      a.download = filename;\n",
              "      div.appendChild(a);\n",
              "      a.click();\n",
              "      div.remove();\n",
              "    }\n",
              "  "
            ]
          },
          "metadata": {}
        },
        {
          "output_type": "display_data",
          "data": {
            "text/plain": [
              "<IPython.core.display.Javascript object>"
            ],
            "application/javascript": [
              "download(\"download_cdcc679f-c4d6-4ebb-9379-189bac91d1b6\", \"output_with_white_background.png\", 60027)"
            ]
          },
          "metadata": {}
        }
      ],
      "source": [
        "from rembg import remove\n",
        "from google.colab import files\n",
        "from PIL import Image\n",
        "import io  # Import the io module\n",
        "\n",
        "# Load the image\n",
        "with open(\"78956.jpg\", \"rb\") as image_bg:\n",
        "  image_bg = image_bg.read()\n",
        "\n",
        "# Remove the background\n",
        "image_bg_rm = remove(image_bg)\n",
        "\n",
        "image_with_no_bg = Image.open(io.BytesIO(image_bg_rm))\n",
        "\n",
        "# Get the image size\n",
        "image_size = image_with_no_bg.size\n",
        "\n",
        "new_img = Image.new(\"RGBA\", image_size, (255, 255, 255))  # Create a white image with the same size\n",
        "new_img.paste(image_with_no_bg, (0, 0), mask=image_with_no_bg)\n",
        "new_img.save(\"output_with_white_background.png\")  # Save the image with the white background\n",
        "# Download the image using files.download\n",
        "files.download(\"output_with_white_background.png\")"
      ]
    }
  ]
}